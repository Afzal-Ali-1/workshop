{
 "cells": [
  {
   "cell_type": "code",
   "execution_count": 2,
   "id": "e3351c05-07f1-4fde-9c27-578625d9e05e",
   "metadata": {},
   "outputs": [],
   "source": [
    "def name(name):\n",
    "    print(name)"
   ]
  },
  {
   "cell_type": "code",
   "execution_count": 4,
   "id": "2239d9ab-8943-4eae-abb3-c4ea342443f7",
   "metadata": {},
   "outputs": [
    {
     "name": "stdout",
     "output_type": "stream",
     "text": [
      "Afzal\n"
     ]
    }
   ],
   "source": [
    "name(\"Afzal\")"
   ]
  },
  {
   "cell_type": "code",
   "execution_count": 6,
   "id": "a98047e3-6314-4294-ae9d-374aae998efb",
   "metadata": {},
   "outputs": [
    {
     "ename": "TypeError",
     "evalue": "name() takes 1 positional argument but 2 were given",
     "output_type": "error",
     "traceback": [
      "\u001b[0;31m---------------------------------------------------------------------------\u001b[0m",
      "\u001b[0;31mTypeError\u001b[0m                                 Traceback (most recent call last)",
      "Cell \u001b[0;32mIn[6], line 1\u001b[0m\n\u001b[0;32m----> 1\u001b[0m name(\u001b[38;5;124m\"\u001b[39m\u001b[38;5;124mAfzal\u001b[39m\u001b[38;5;124m\"\u001b[39m,\u001b[38;5;124m\"\u001b[39m\u001b[38;5;124mAnkusj\u001b[39m\u001b[38;5;124m\"\u001b[39m)\n",
      "\u001b[0;31mTypeError\u001b[0m: name() takes 1 positional argument but 2 were given"
     ]
    }
   ],
   "source": [
    "name(\"Afzal\",\"Ankusj\")"
   ]
  },
  {
   "cell_type": "code",
   "execution_count": 10,
   "id": "3cd93cc3-dcc6-447a-9a7a-5333c7c52565",
   "metadata": {},
   "outputs": [],
   "source": [
    "def name(name,name_2):\n",
    "    print(name,name_2)"
   ]
  },
  {
   "cell_type": "code",
   "execution_count": 12,
   "id": "416a0380-9ef6-4448-9cb8-897b6df5487a",
   "metadata": {},
   "outputs": [
    {
     "name": "stdout",
     "output_type": "stream",
     "text": [
      "Afzal Ankush\n"
     ]
    }
   ],
   "source": [
    "name(\"Afzal\",\"Ankush\")"
   ]
  },
  {
   "cell_type": "code",
   "execution_count": 14,
   "id": "2b5e1247-1dd1-4b06-9c20-d6666e7122a2",
   "metadata": {},
   "outputs": [
    {
     "ename": "TypeError",
     "evalue": "name() missing 1 required positional argument: 'name_2'",
     "output_type": "error",
     "traceback": [
      "\u001b[0;31m---------------------------------------------------------------------------\u001b[0m",
      "\u001b[0;31mTypeError\u001b[0m                                 Traceback (most recent call last)",
      "Cell \u001b[0;32mIn[14], line 1\u001b[0m\n\u001b[0;32m----> 1\u001b[0m name(\u001b[38;5;124m\"\u001b[39m\u001b[38;5;124mAfzal\u001b[39m\u001b[38;5;124m\"\u001b[39m)\n",
      "\u001b[0;31mTypeError\u001b[0m: name() missing 1 required positional argument: 'name_2'"
     ]
    }
   ],
   "source": [
    "name(\"Afzal\")"
   ]
  },
  {
   "cell_type": "code",
   "execution_count": 16,
   "id": "874db994-20b9-4faf-aa1d-25257256fe68",
   "metadata": {},
   "outputs": [],
   "source": [
    "def name(name,name_2=None):\n",
    "    print(name,name_2)"
   ]
  },
  {
   "cell_type": "code",
   "execution_count": 18,
   "id": "f3be3352-6ddc-427a-a282-e3215f9924b7",
   "metadata": {},
   "outputs": [
    {
     "name": "stdout",
     "output_type": "stream",
     "text": [
      "Afzal Ankush\n"
     ]
    }
   ],
   "source": [
    "name(\"Afzal\",\"Ankush\")"
   ]
  },
  {
   "cell_type": "code",
   "execution_count": 20,
   "id": "89a1a88e-2e46-4783-b617-cda9ceeea1dc",
   "metadata": {},
   "outputs": [
    {
     "name": "stdout",
     "output_type": "stream",
     "text": [
      "Afzal None\n"
     ]
    }
   ],
   "source": [
    "name(\"Afzal\")"
   ]
  },
  {
   "cell_type": "code",
   "execution_count": 22,
   "id": "e8bef6fa-6158-412f-b740-41de73b44b4f",
   "metadata": {},
   "outputs": [
    {
     "name": "stdout",
     "output_type": "stream",
     "text": [
      "Hi Hello\n"
     ]
    }
   ],
   "source": [
    "print(\"Hi\",\"Hello\")"
   ]
  },
  {
   "cell_type": "code",
   "execution_count": 24,
   "id": "75616fc5-0038-40cd-b85a-b147919e036d",
   "metadata": {},
   "outputs": [
    {
     "name": "stdout",
     "output_type": "stream",
     "text": [
      "Hi Hello Mai ja rha\n"
     ]
    }
   ],
   "source": [
    "print(\"Hi\",\"Hello\",\"Mai ja rha\")"
   ]
  },
  {
   "cell_type": "code",
   "execution_count": 26,
   "id": "759fe76c-f1e4-443f-9b07-0c9531385591",
   "metadata": {},
   "outputs": [
    {
     "name": "stdout",
     "output_type": "stream",
     "text": [
      "Ho\n"
     ]
    }
   ],
   "source": [
    "print(\"Ho\")"
   ]
  },
  {
   "cell_type": "code",
   "execution_count": 28,
   "id": "366dc2c6-4d9a-44c9-ad3a-937b6efc553d",
   "metadata": {},
   "outputs": [
    {
     "name": "stdout",
     "output_type": "stream",
     "text": [
      "\n"
     ]
    }
   ],
   "source": [
    "print()"
   ]
  },
  {
   "cell_type": "code",
   "execution_count": 30,
   "id": "ed7c92de-c2d2-431d-8879-1223ff8d315c",
   "metadata": {},
   "outputs": [
    {
     "name": "stdout",
     "output_type": "stream",
     "text": [
      "\n"
     ]
    }
   ],
   "source": [
    "a=print()"
   ]
  },
  {
   "cell_type": "code",
   "execution_count": 32,
   "id": "baa3265b-6c3b-48bf-b86b-b30923b72c6f",
   "metadata": {},
   "outputs": [
    {
     "name": "stdout",
     "output_type": "stream",
     "text": [
      "None\n"
     ]
    }
   ],
   "source": [
    "print(a)"
   ]
  },
  {
   "cell_type": "code",
   "execution_count": 34,
   "id": "56e1b714-6d10-47fb-8648-b21c3b9b2521",
   "metadata": {},
   "outputs": [],
   "source": [
    "name=\"Afzal\""
   ]
  },
  {
   "cell_type": "code",
   "execution_count": 36,
   "id": "06882dc6-eb38-4ae1-865a-905d88e033a6",
   "metadata": {},
   "outputs": [
    {
     "data": {
      "text/plain": [
       "str"
      ]
     },
     "execution_count": 36,
     "metadata": {},
     "output_type": "execute_result"
    }
   ],
   "source": [
    "type(name)"
   ]
  },
  {
   "cell_type": "code",
   "execution_count": 38,
   "id": "7af19b91-ac41-4e93-baa4-5f2e3d41703c",
   "metadata": {},
   "outputs": [],
   "source": [
    "name=(\"Afzal\",\"Mayank\")"
   ]
  },
  {
   "cell_type": "code",
   "execution_count": 40,
   "id": "10928ae8-fb4f-407c-b297-db2a630b09f8",
   "metadata": {},
   "outputs": [
    {
     "data": {
      "text/plain": [
       "tuple"
      ]
     },
     "execution_count": 40,
     "metadata": {},
     "output_type": "execute_result"
    }
   ],
   "source": [
    "type(name)"
   ]
  },
  {
   "cell_type": "code",
   "execution_count": 42,
   "id": "99f41d80-aaf9-4ed2-bf46-a8c7f8602e99",
   "metadata": {},
   "outputs": [
    {
     "name": "stdout",
     "output_type": "stream",
     "text": [
      "('Afzal', 'Mayank')\n"
     ]
    }
   ],
   "source": [
    "print(name)"
   ]
  },
  {
   "cell_type": "code",
   "execution_count": 44,
   "id": "c927a283-ace3-41f2-b37d-9ef6fc5dd8f7",
   "metadata": {},
   "outputs": [],
   "source": [
    "def name(*args):\n",
    "    print(args)"
   ]
  },
  {
   "cell_type": "code",
   "execution_count": 46,
   "id": "40f04ee8-2c30-4425-8c90-1a6955a16c3c",
   "metadata": {},
   "outputs": [
    {
     "name": "stdout",
     "output_type": "stream",
     "text": [
      "('Hi',)\n"
     ]
    }
   ],
   "source": [
    "name(\"Hi\")"
   ]
  },
  {
   "cell_type": "code",
   "execution_count": 48,
   "id": "cb4adaa4-6423-4a5f-b77f-2311a13c4f53",
   "metadata": {},
   "outputs": [
    {
     "name": "stdout",
     "output_type": "stream",
     "text": [
      "('Hi', 'Python', 'Bye')\n"
     ]
    }
   ],
   "source": [
    "name(\"Hi\",\"Python\",\"Bye\")"
   ]
  },
  {
   "cell_type": "code",
   "execution_count": 50,
   "id": "67775600-94c9-4395-b48e-b5cd9fe5a6ee",
   "metadata": {},
   "outputs": [
    {
     "name": "stdout",
     "output_type": "stream",
     "text": [
      "()\n"
     ]
    }
   ],
   "source": [
    "name()"
   ]
  },
  {
   "cell_type": "code",
   "execution_count": 52,
   "id": "6d2df518-1335-4792-8108-373f3bfac68d",
   "metadata": {},
   "outputs": [],
   "source": [
    "def pprint(*args):\n",
    "    for var in args:\n",
    "        print(var)"
   ]
  },
  {
   "cell_type": "code",
   "execution_count": 54,
   "id": "2ac14289-9e8b-40e9-9b62-79692219b895",
   "metadata": {},
   "outputs": [
    {
     "name": "stdout",
     "output_type": "stream",
     "text": [
      "hi\n"
     ]
    }
   ],
   "source": [
    "pprint(\"hi\")"
   ]
  },
  {
   "cell_type": "code",
   "execution_count": null,
   "id": "19acda41-3a4d-4181-9c89-65c48736970b",
   "metadata": {},
   "outputs": [],
   "source": [
    "pprpint()"
   ]
  }
 ],
 "metadata": {
  "kernelspec": {
   "display_name": "Python 3 (ipykernel)",
   "language": "python",
   "name": "python3"
  },
  "language_info": {
   "codemirror_mode": {
    "name": "ipython",
    "version": 3
   },
   "file_extension": ".py",
   "mimetype": "text/x-python",
   "name": "python",
   "nbconvert_exporter": "python",
   "pygments_lexer": "ipython3",
   "version": "3.12.7"
  }
 },
 "nbformat": 4,
 "nbformat_minor": 5
}
