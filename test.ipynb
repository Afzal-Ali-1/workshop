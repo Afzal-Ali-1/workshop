{
 "cells": [
  {
   "cell_type": "code",
   "execution_count": 2,
   "id": "e3351c05-07f1-4fde-9c27-578625d9e05e",
   "metadata": {},
   "outputs": [],
   "source": [
    "def name(name):\n",
    "    print(name)"
   ]
  },
  {
   "cell_type": "code",
   "execution_count": 4,
   "id": "2239d9ab-8943-4eae-abb3-c4ea342443f7",
   "metadata": {},
   "outputs": [
    {
     "name": "stdout",
     "output_type": "stream",
     "text": [
      "Afzal\n"
     ]
    }
   ],
   "source": [
    "name(\"Afzal\")"
   ]
  },
  {
   "cell_type": "code",
   "execution_count": 6,
   "id": "a98047e3-6314-4294-ae9d-374aae998efb",
   "metadata": {},
   "outputs": [
    {
     "ename": "TypeError",
     "evalue": "name() takes 1 positional argument but 2 were given",
     "output_type": "error",
     "traceback": [
      "\u001b[0;31m---------------------------------------------------------------------------\u001b[0m",
      "\u001b[0;31mTypeError\u001b[0m                                 Traceback (most recent call last)",
      "Cell \u001b[0;32mIn[6], line 1\u001b[0m\n\u001b[0;32m----> 1\u001b[0m name(\u001b[38;5;124m\"\u001b[39m\u001b[38;5;124mAfzal\u001b[39m\u001b[38;5;124m\"\u001b[39m,\u001b[38;5;124m\"\u001b[39m\u001b[38;5;124mAnkusj\u001b[39m\u001b[38;5;124m\"\u001b[39m)\n",
      "\u001b[0;31mTypeError\u001b[0m: name() takes 1 positional argument but 2 were given"
     ]
    }
   ],
   "source": [
    "name(\"Afzal\",\"Ankusj\")"
   ]
  },
  {
   "cell_type": "code",
   "execution_count": 10,
   "id": "3cd93cc3-dcc6-447a-9a7a-5333c7c52565",
   "metadata": {},
   "outputs": [],
   "source": [
    "def name(name,name_2):\n",
    "    print(name,name_2)"
   ]
  },
  {
   "cell_type": "code",
   "execution_count": 12,
   "id": "416a0380-9ef6-4448-9cb8-897b6df5487a",
   "metadata": {},
   "outputs": [
    {
     "name": "stdout",
     "output_type": "stream",
     "text": [
      "Afzal Ankush\n"
     ]
    }
   ],
   "source": [
    "name(\"Afzal\",\"Ankush\")"
   ]
  },
  {
   "cell_type": "code",
   "execution_count": 14,
   "id": "2b5e1247-1dd1-4b06-9c20-d6666e7122a2",
   "metadata": {},
   "outputs": [
    {
     "ename": "TypeError",
     "evalue": "name() missing 1 required positional argument: 'name_2'",
     "output_type": "error",
     "traceback": [
      "\u001b[0;31m---------------------------------------------------------------------------\u001b[0m",
      "\u001b[0;31mTypeError\u001b[0m                                 Traceback (most recent call last)",
      "Cell \u001b[0;32mIn[14], line 1\u001b[0m\n\u001b[0;32m----> 1\u001b[0m name(\u001b[38;5;124m\"\u001b[39m\u001b[38;5;124mAfzal\u001b[39m\u001b[38;5;124m\"\u001b[39m)\n",
      "\u001b[0;31mTypeError\u001b[0m: name() missing 1 required positional argument: 'name_2'"
     ]
    }
   ],
   "source": [
    "name(\"Afzal\")"
   ]
  },
  {
   "cell_type": "code",
   "execution_count": 16,
   "id": "874db994-20b9-4faf-aa1d-25257256fe68",
   "metadata": {},
   "outputs": [],
   "source": [
    "def name(name,name_2=None):\n",
    "    print(name,name_2)"
   ]
  },
  {
   "cell_type": "code",
   "execution_count": 18,
   "id": "f3be3352-6ddc-427a-a282-e3215f9924b7",
   "metadata": {},
   "outputs": [
    {
     "name": "stdout",
     "output_type": "stream",
     "text": [
      "Afzal Ankush\n"
     ]
    }
   ],
   "source": [
    "name(\"Afzal\",\"Ankush\")"
   ]
  },
  {
   "cell_type": "code",
   "execution_count": 20,
   "id": "89a1a88e-2e46-4783-b617-cda9ceeea1dc",
   "metadata": {},
   "outputs": [
    {
     "name": "stdout",
     "output_type": "stream",
     "text": [
      "Afzal None\n"
     ]
    }
   ],
   "source": [
    "name(\"Afzal\")"
   ]
  },
  {
   "cell_type": "code",
   "execution_count": 22,
   "id": "e8bef6fa-6158-412f-b740-41de73b44b4f",
   "metadata": {},
   "outputs": [
    {
     "name": "stdout",
     "output_type": "stream",
     "text": [
      "Hi Hello\n"
     ]
    }
   ],
   "source": [
    "print(\"Hi\",\"Hello\")"
   ]
  },
  {
   "cell_type": "code",
   "execution_count": 24,
   "id": "75616fc5-0038-40cd-b85a-b147919e036d",
   "metadata": {},
   "outputs": [
    {
     "name": "stdout",
     "output_type": "stream",
     "text": [
      "Hi Hello Mai ja rha\n"
     ]
    }
   ],
   "source": [
    "print(\"Hi\",\"Hello\",\"Mai ja rha\")"
   ]
  },
  {
   "cell_type": "code",
   "execution_count": 26,
   "id": "759fe76c-f1e4-443f-9b07-0c9531385591",
   "metadata": {},
   "outputs": [
    {
     "name": "stdout",
     "output_type": "stream",
     "text": [
      "Ho\n"
     ]
    }
   ],
   "source": [
    "print(\"Ho\")"
   ]
  },
  {
   "cell_type": "code",
   "execution_count": 28,
   "id": "366dc2c6-4d9a-44c9-ad3a-937b6efc553d",
   "metadata": {},
   "outputs": [
    {
     "name": "stdout",
     "output_type": "stream",
     "text": [
      "\n"
     ]
    }
   ],
   "source": [
    "print()"
   ]
  },
  {
   "cell_type": "code",
   "execution_count": 30,
   "id": "ed7c92de-c2d2-431d-8879-1223ff8d315c",
   "metadata": {},
   "outputs": [
    {
     "name": "stdout",
     "output_type": "stream",
     "text": [
      "\n"
     ]
    }
   ],
   "source": [
    "a=print()"
   ]
  },
  {
   "cell_type": "code",
   "execution_count": 32,
   "id": "baa3265b-6c3b-48bf-b86b-b30923b72c6f",
   "metadata": {},
   "outputs": [
    {
     "name": "stdout",
     "output_type": "stream",
     "text": [
      "None\n"
     ]
    }
   ],
   "source": [
    "print(a)"
   ]
  },
  {
   "cell_type": "code",
   "execution_count": 34,
   "id": "56e1b714-6d10-47fb-8648-b21c3b9b2521",
   "metadata": {},
   "outputs": [],
   "source": [
    "name=\"Afzal\""
   ]
  },
  {
   "cell_type": "code",
   "execution_count": 36,
   "id": "06882dc6-eb38-4ae1-865a-905d88e033a6",
   "metadata": {},
   "outputs": [
    {
     "data": {
      "text/plain": [
       "str"
      ]
     },
     "execution_count": 36,
     "metadata": {},
     "output_type": "execute_result"
    }
   ],
   "source": [
    "type(name)"
   ]
  },
  {
   "cell_type": "code",
   "execution_count": 38,
   "id": "7af19b91-ac41-4e93-baa4-5f2e3d41703c",
   "metadata": {},
   "outputs": [],
   "source": [
    "name=(\"Afzal\",\"Mayank\")"
   ]
  },
  {
   "cell_type": "code",
   "execution_count": 40,
   "id": "10928ae8-fb4f-407c-b297-db2a630b09f8",
   "metadata": {},
   "outputs": [
    {
     "data": {
      "text/plain": [
       "tuple"
      ]
     },
     "execution_count": 40,
     "metadata": {},
     "output_type": "execute_result"
    }
   ],
   "source": [
    "type(name)"
   ]
  },
  {
   "cell_type": "code",
   "execution_count": 42,
   "id": "99f41d80-aaf9-4ed2-bf46-a8c7f8602e99",
   "metadata": {},
   "outputs": [
    {
     "name": "stdout",
     "output_type": "stream",
     "text": [
      "('Afzal', 'Mayank')\n"
     ]
    }
   ],
   "source": [
    "print(name)"
   ]
  },
  {
   "cell_type": "code",
   "execution_count": 44,
   "id": "c927a283-ace3-41f2-b37d-9ef6fc5dd8f7",
   "metadata": {},
   "outputs": [],
   "source": [
    "def name(*args):\n",
    "    print(args)"
   ]
  },
  {
   "cell_type": "code",
   "execution_count": 46,
   "id": "40f04ee8-2c30-4425-8c90-1a6955a16c3c",
   "metadata": {},
   "outputs": [
    {
     "name": "stdout",
     "output_type": "stream",
     "text": [
      "('Hi',)\n"
     ]
    }
   ],
   "source": [
    "name(\"Hi\")"
   ]
  },
  {
   "cell_type": "code",
   "execution_count": 48,
   "id": "cb4adaa4-6423-4a5f-b77f-2311a13c4f53",
   "metadata": {},
   "outputs": [
    {
     "name": "stdout",
     "output_type": "stream",
     "text": [
      "('Hi', 'Python', 'Bye')\n"
     ]
    }
   ],
   "source": [
    "name(\"Hi\",\"Python\",\"Bye\")"
   ]
  },
  {
   "cell_type": "code",
   "execution_count": 50,
   "id": "67775600-94c9-4395-b48e-b5cd9fe5a6ee",
   "metadata": {},
   "outputs": [
    {
     "name": "stdout",
     "output_type": "stream",
     "text": [
      "()\n"
     ]
    }
   ],
   "source": [
    "name()"
   ]
  },
  {
   "cell_type": "code",
   "execution_count": 52,
   "id": "6d2df518-1335-4792-8108-373f3bfac68d",
   "metadata": {},
   "outputs": [],
   "source": [
    "def pprint(*args):\n",
    "    for var in args:\n",
    "        print(var)"
   ]
  },
  {
   "cell_type": "code",
   "execution_count": 54,
   "id": "2ac14289-9e8b-40e9-9b62-79692219b895",
   "metadata": {},
   "outputs": [
    {
     "name": "stdout",
     "output_type": "stream",
     "text": [
      "hi\n"
     ]
    }
   ],
   "source": [
    "pprint(\"hi\")"
   ]
  },
  {
   "cell_type": "code",
   "execution_count": 58,
   "id": "19acda41-3a4d-4181-9c89-65c48736970b",
   "metadata": {},
   "outputs": [
    {
     "name": "stdout",
     "output_type": "stream",
     "text": [
      "Hi\n",
      "Hello\n"
     ]
    }
   ],
   "source": [
    "pprint(\"Hi\",\"Hello\")"
   ]
  },
  {
   "cell_type": "code",
   "execution_count": 60,
   "id": "ae1e3415-1fb8-4dfe-b6f4-9e82758d3dd1",
   "metadata": {},
   "outputs": [],
   "source": [
    "pprint()"
   ]
  },
  {
   "cell_type": "code",
   "execution_count": 62,
   "id": "c3b77b11-ad05-4027-aa24-68553e9e4c0a",
   "metadata": {},
   "outputs": [],
   "source": [
    "name=pprint()"
   ]
  },
  {
   "cell_type": "code",
   "execution_count": 64,
   "id": "7919b904-79c5-4268-9d8f-88939bbabb54",
   "metadata": {},
   "outputs": [],
   "source": [
    "name"
   ]
  },
  {
   "cell_type": "code",
   "execution_count": 68,
   "id": "1c37c33d-dd90-4c5a-bec7-a2bcf6bb5c88",
   "metadata": {},
   "outputs": [
    {
     "data": {
      "text/plain": [
       "2"
      ]
     },
     "execution_count": 68,
     "metadata": {},
     "output_type": "execute_result"
    }
   ],
   "source": [
    "len((1,2,))"
   ]
  },
  {
   "cell_type": "code",
   "execution_count": 70,
   "id": "c13b1c43-66ba-4bdb-867e-dda02e8aa07c",
   "metadata": {},
   "outputs": [],
   "source": [
    "def pprint(*args):\n",
    "    if len(args)==0:\n",
    "        return None\n",
    "    else:\n",
    "        for var in args:\n",
    "            print(var,end=\" \")"
   ]
  },
  {
   "cell_type": "code",
   "execution_count": 72,
   "id": "13d5b6e9-5807-4cae-b1d8-8010e08c5a2f",
   "metadata": {},
   "outputs": [
    {
     "name": "stdout",
     "output_type": "stream",
     "text": [
      "Hi\n"
     ]
    }
   ],
   "source": [
    "pprint(\"Hi\")"
   ]
  },
  {
   "cell_type": "code",
   "execution_count": 74,
   "id": "40a85fb8-b848-4719-b032-d0a18703ead3",
   "metadata": {},
   "outputs": [
    {
     "name": "stdout",
     "output_type": "stream",
     "text": [
      "Hi\n",
      "Hello\n"
     ]
    }
   ],
   "source": [
    "pprint(\"Hi\",\"Hello\")"
   ]
  },
  {
   "cell_type": "code",
   "execution_count": 76,
   "id": "3cb59707-3a96-4fb5-88bf-42510bcf8a4d",
   "metadata": {},
   "outputs": [
    {
     "name": "stdout",
     "output_type": "stream",
     "text": [
      "Hi Hello\n"
     ]
    }
   ],
   "source": [
    "print(\"Hi\",\"Hello\")"
   ]
  },
  {
   "cell_type": "code",
   "execution_count": 80,
   "id": "b372e6d0-961b-4113-840d-879d3eb034e2",
   "metadata": {},
   "outputs": [
    {
     "name": "stdout",
     "output_type": "stream",
     "text": [
      "Hi Hello\n"
     ]
    }
   ],
   "source": [
    "print(\"Hi\",end=\" \")\n",
    "print(\"Hello\")"
   ]
  },
  {
   "cell_type": "code",
   "execution_count": 82,
   "id": "f35a33a6-3b1a-468b-8e36-14e7e320b0c8",
   "metadata": {},
   "outputs": [
    {
     "name": "stdout",
     "output_type": "stream",
     "text": [
      "Hi Hello\n",
      "Hi\n"
     ]
    }
   ],
   "source": [
    "print(\"Hi\",end=\" \")\n",
    "print(\"Hello\")\n",
    "print(\"Hi\")"
   ]
  },
  {
   "cell_type": "code",
   "execution_count": 84,
   "id": "287b2c83-0cfe-4231-9840-ba7c33b957f6",
   "metadata": {},
   "outputs": [
    {
     "name": "stdout",
     "output_type": "stream",
     "text": [
      "test.ipynb  test.py\n"
     ]
    }
   ],
   "source": [
    "ls"
   ]
  },
  {
   "cell_type": "code",
   "execution_count": 90,
   "id": "964a2b50-d999-45b7-88bb-3a9efc28a625",
   "metadata": {},
   "outputs": [
    {
     "name": "stdout",
     "output_type": "stream",
     "text": [
      "Data has been successfully saved !\n"
     ]
    }
   ],
   "source": [
    "with open(\"test.txt\",\"w\") as file:\n",
    "    print(\"Hi we are storing our data into a file\",file=file)\n",
    "print(f\"Data has been successfully saved !\")"
   ]
  },
  {
   "cell_type": "code",
   "execution_count": 92,
   "id": "01835c7d-492c-447e-8f4d-5b68549ae6b2",
   "metadata": {},
   "outputs": [
    {
     "name": "stdout",
     "output_type": "stream",
     "text": [
      "test.ipynb  test.py     test.txt\n"
     ]
    }
   ],
   "source": [
    "ls"
   ]
  },
  {
   "cell_type": "code",
   "execution_count": 94,
   "id": "84e32ea6-274b-408c-87da-0bca55115bb1",
   "metadata": {},
   "outputs": [],
   "source": [
    "name=\"Afzal\""
   ]
  },
  {
   "cell_type": "code",
   "execution_count": 96,
   "id": "bd988615-31f4-4934-8bba-51e210e628f7",
   "metadata": {},
   "outputs": [
    {
     "data": {
      "text/plain": [
       "str"
      ]
     },
     "execution_count": 96,
     "metadata": {},
     "output_type": "execute_result"
    }
   ],
   "source": [
    "type(name)"
   ]
  },
  {
   "cell_type": "code",
   "execution_count": 98,
   "id": "fa117dbe-3844-402d-81d6-e3eaa53f0c81",
   "metadata": {},
   "outputs": [
    {
     "data": {
      "text/plain": [
       "4877428624"
      ]
     },
     "execution_count": 98,
     "metadata": {},
     "output_type": "execute_result"
    }
   ],
   "source": [
    "id(name)"
   ]
  },
  {
   "cell_type": "code",
   "execution_count": 100,
   "id": "d628195c-eb83-435e-b9c8-228e1a22fad3",
   "metadata": {},
   "outputs": [
    {
     "name": "stdout",
     "output_type": "stream",
     "text": [
      "Afzal\n"
     ]
    }
   ],
   "source": [
    "print(name)"
   ]
  },
  {
   "cell_type": "code",
   "execution_count": 102,
   "id": "49ef0eac-7bfe-4d1e-b60e-509c0cf56669",
   "metadata": {},
   "outputs": [
    {
     "data": {
      "text/plain": [
       "'afzal'"
      ]
     },
     "execution_count": 102,
     "metadata": {},
     "output_type": "execute_result"
    }
   ],
   "source": [
    "name.lower()"
   ]
  },
  {
   "cell_type": "code",
   "execution_count": 104,
   "id": "f81ee2f6-18a5-4195-89e6-c8047672f96c",
   "metadata": {},
   "outputs": [
    {
     "data": {
      "text/plain": [
       "'AFZAL'"
      ]
     },
     "execution_count": 104,
     "metadata": {},
     "output_type": "execute_result"
    }
   ],
   "source": [
    "name.upper()"
   ]
  },
  {
   "cell_type": "code",
   "execution_count": 106,
   "id": "bc50fadf-5a99-415a-8494-22eae1a2b66f",
   "metadata": {},
   "outputs": [
    {
     "name": "stdout",
     "output_type": "stream",
     "text": [
      "['__add__', '__class__', '__contains__', '__delattr__', '__dir__', '__doc__', '__eq__', '__format__', '__ge__', '__getattribute__', '__getitem__', '__getnewargs__', '__getstate__', '__gt__', '__hash__', '__init__', '__init_subclass__', '__iter__', '__le__', '__len__', '__lt__', '__mod__', '__mul__', '__ne__', '__new__', '__reduce__', '__reduce_ex__', '__repr__', '__rmod__', '__rmul__', '__setattr__', '__sizeof__', '__str__', '__subclasshook__', 'capitalize', 'casefold', 'center', 'count', 'encode', 'endswith', 'expandtabs', 'find', 'format', 'format_map', 'index', 'isalnum', 'isalpha', 'isascii', 'isdecimal', 'isdigit', 'isidentifier', 'islower', 'isnumeric', 'isprintable', 'isspace', 'istitle', 'isupper', 'join', 'ljust', 'lower', 'lstrip', 'maketrans', 'partition', 'removeprefix', 'removesuffix', 'replace', 'rfind', 'rindex', 'rjust', 'rpartition', 'rsplit', 'rstrip', 'split', 'splitlines', 'startswith', 'strip', 'swapcase', 'title', 'translate', 'upper', 'zfill']\n"
     ]
    }
   ],
   "source": [
    "print(dir(str))"
   ]
  },
  {
   "cell_type": "code",
   "execution_count": 108,
   "id": "40403202-97b9-4bf5-a62e-f1b5b1cd0648",
   "metadata": {},
   "outputs": [
    {
     "data": {
      "text/plain": [
       "['__add__',\n",
       " '__class__',\n",
       " '__contains__',\n",
       " '__delattr__',\n",
       " '__dir__',\n",
       " '__doc__',\n",
       " '__eq__',\n",
       " '__format__',\n",
       " '__ge__',\n",
       " '__getattribute__',\n",
       " '__getitem__',\n",
       " '__getnewargs__',\n",
       " '__getstate__',\n",
       " '__gt__',\n",
       " '__hash__',\n",
       " '__init__',\n",
       " '__init_subclass__',\n",
       " '__iter__',\n",
       " '__le__',\n",
       " '__len__',\n",
       " '__lt__',\n",
       " '__mod__',\n",
       " '__mul__',\n",
       " '__ne__',\n",
       " '__new__',\n",
       " '__reduce__',\n",
       " '__reduce_ex__',\n",
       " '__repr__',\n",
       " '__rmod__',\n",
       " '__rmul__',\n",
       " '__setattr__',\n",
       " '__sizeof__',\n",
       " '__str__',\n",
       " '__subclasshook__',\n",
       " 'capitalize',\n",
       " 'casefold',\n",
       " 'center',\n",
       " 'count',\n",
       " 'encode',\n",
       " 'endswith',\n",
       " 'expandtabs',\n",
       " 'find',\n",
       " 'format',\n",
       " 'format_map',\n",
       " 'index',\n",
       " 'isalnum',\n",
       " 'isalpha',\n",
       " 'isascii',\n",
       " 'isdecimal',\n",
       " 'isdigit',\n",
       " 'isidentifier',\n",
       " 'islower',\n",
       " 'isnumeric',\n",
       " 'isprintable',\n",
       " 'isspace',\n",
       " 'istitle',\n",
       " 'isupper',\n",
       " 'join',\n",
       " 'ljust',\n",
       " 'lower',\n",
       " 'lstrip',\n",
       " 'maketrans',\n",
       " 'partition',\n",
       " 'removeprefix',\n",
       " 'removesuffix',\n",
       " 'replace',\n",
       " 'rfind',\n",
       " 'rindex',\n",
       " 'rjust',\n",
       " 'rpartition',\n",
       " 'rsplit',\n",
       " 'rstrip',\n",
       " 'split',\n",
       " 'splitlines',\n",
       " 'startswith',\n",
       " 'strip',\n",
       " 'swapcase',\n",
       " 'title',\n",
       " 'translate',\n",
       " 'upper',\n",
       " 'zfill']"
      ]
     },
     "execution_count": 108,
     "metadata": {},
     "output_type": "execute_result"
    }
   ],
   "source": [
    "dir(name)"
   ]
  },
  {
   "cell_type": "code",
   "execution_count": 110,
   "id": "c9541360-b9ff-4ddf-8fba-114a08d6466a",
   "metadata": {},
   "outputs": [
    {
     "name": "stdout",
     "output_type": "stream",
     "text": [
      "['__add__', '__class__', '__contains__', '__delattr__', '__dir__', '__doc__', '__eq__', '__format__', '__ge__', '__getattribute__', '__getitem__', '__getnewargs__', '__getstate__', '__gt__', '__hash__', '__init__', '__init_subclass__', '__iter__', '__le__', '__len__', '__lt__', '__mod__', '__mul__', '__ne__', '__new__', '__reduce__', '__reduce_ex__', '__repr__', '__rmod__', '__rmul__', '__setattr__', '__sizeof__', '__str__', '__subclasshook__', 'capitalize', 'casefold', 'center', 'count', 'encode', 'endswith', 'expandtabs', 'find', 'format', 'format_map', 'index', 'isalnum', 'isalpha', 'isascii', 'isdecimal', 'isdigit', 'isidentifier', 'islower', 'isnumeric', 'isprintable', 'isspace', 'istitle', 'isupper', 'join', 'ljust', 'lower', 'lstrip', 'maketrans', 'partition', 'removeprefix', 'removesuffix', 'replace', 'rfind', 'rindex', 'rjust', 'rpartition', 'rsplit', 'rstrip', 'split', 'splitlines', 'startswith', 'strip', 'swapcase', 'title', 'translate', 'upper', 'zfill']\n"
     ]
    }
   ],
   "source": [
    "print(dir(str))"
   ]
  },
  {
   "cell_type": "code",
   "execution_count": 112,
   "id": "4c0cb63a-8ec0-4cba-8727-2d246825eddc",
   "metadata": {},
   "outputs": [
    {
     "name": "stdout",
     "output_type": "stream",
     "text": [
      "str(object='') -> str\n",
      "str(bytes_or_buffer[, encoding[, errors]]) -> str\n",
      "\n",
      "Create a new string object from the given object. If encoding or\n",
      "errors is specified, then the object must expose a data buffer\n",
      "that will be decoded using the given encoding and error handler.\n",
      "Otherwise, returns the result of object.__str__() (if defined)\n",
      "or repr(object).\n",
      "encoding defaults to sys.getdefaultencoding().\n",
      "errors defaults to 'strict'.\n"
     ]
    }
   ],
   "source": [
    "print(name.__doc__)"
   ]
  },
  {
   "cell_type": "code",
   "execution_count": 114,
   "id": "69affa7f-1872-423e-b930-97f140bfeb2d",
   "metadata": {},
   "outputs": [
    {
     "name": "stdout",
     "output_type": "stream",
     "text": [
      "No Python documentation found for 'Afzal'.\n",
      "Use help() to get the interactive help utility.\n",
      "Use help(str) for help on the str class.\n",
      "\n"
     ]
    }
   ],
   "source": [
    "help(name)"
   ]
  },
  {
   "cell_type": "code",
   "execution_count": 116,
   "id": "7fcddcfb-285f-46ad-a1dc-d351b2132bde",
   "metadata": {},
   "outputs": [
    {
     "name": "stdout",
     "output_type": "stream",
     "text": [
      "Welcome to Python 3.12's help utility! If this is your first time using\n",
      "Python, you should definitely check out the tutorial at\n",
      "https://docs.python.org/3.12/tutorial/.\n",
      "\n",
      "Enter the name of any module, keyword, or topic to get help on writing\n",
      "Python programs and using Python modules.  To get a list of available\n",
      "modules, keywords, symbols, or topics, enter \"modules\", \"keywords\",\n",
      "\"symbols\", or \"topics\".\n",
      "\n",
      "Each module also comes with a one-line summary of what it does; to list\n",
      "the modules whose name or summary contain a given string such as \"spam\",\n",
      "enter \"modules spam\".\n",
      "\n",
      "To quit this help utility and return to the interpreter,\n",
      "enter \"q\" or \"quit\".\n",
      "\n"
     ]
    },
    {
     "name": "stdin",
     "output_type": "stream",
     "text": [
      "help>  q\n"
     ]
    },
    {
     "name": "stdout",
     "output_type": "stream",
     "text": [
      "\n",
      "You are now leaving help and returning to the Python interpreter.\n",
      "If you want to ask for help on a particular object directly from the\n",
      "interpreter, you can type \"help(object)\".  Executing \"help('string')\"\n",
      "has the same effect as typing a particular string at the help> prompt.\n"
     ]
    }
   ],
   "source": [
    "help()"
   ]
  },
  {
   "cell_type": "code",
   "execution_count": 122,
   "id": "7f41a267-ff55-4e93-904d-ae1c24ba0e96",
   "metadata": {},
   "outputs": [],
   "source": [
    "var=\"pyhtOn\""
   ]
  },
  {
   "cell_type": "code",
   "execution_count": 124,
   "id": "4caa5c2b-d210-470a-a5b2-4a4a53c9bddc",
   "metadata": {},
   "outputs": [
    {
     "data": {
      "text/plain": [
       "'PYHToN'"
      ]
     },
     "execution_count": 124,
     "metadata": {},
     "output_type": "execute_result"
    }
   ],
   "source": [
    "var.swapcase()"
   ]
  },
  {
   "cell_type": "code",
   "execution_count": 126,
   "id": "0f68b7f4-032b-4005-a65a-bfbeda62948b",
   "metadata": {},
   "outputs": [],
   "source": [
    "file=open(\"test.txt\")"
   ]
  },
  {
   "cell_type": "code",
   "execution_count": 128,
   "id": "1bfb1e88-1853-41ac-8108-e0ff4d1dd1da",
   "metadata": {},
   "outputs": [
    {
     "name": "stdout",
     "output_type": "stream",
     "text": [
      "<_io.TextIOWrapper name='test.txt' mode='r' encoding='UTF-8'>\n"
     ]
    }
   ],
   "source": [
    "print(file)"
   ]
  },
  {
   "cell_type": "code",
   "execution_count": 130,
   "id": "195c5fec-8b54-47f8-8e25-24bd0ef40a82",
   "metadata": {},
   "outputs": [],
   "source": [
    "data=file.read()"
   ]
  },
  {
   "cell_type": "code",
   "execution_count": 132,
   "id": "80860c6b-428c-4d5f-ae76-0880dad811b5",
   "metadata": {},
   "outputs": [
    {
     "name": "stdout",
     "output_type": "stream",
     "text": [
      "Prachi\n",
      "Miraj\n",
      "Nakul\n",
      "Akshat\n",
      "Harsh\n",
      "Farhan\n",
      "Aman\n"
     ]
    }
   ],
   "source": [
    "print(data)"
   ]
  },
  {
   "cell_type": "code",
   "execution_count": 134,
   "id": "f2b91332-63a6-4eb3-9ad3-1d615fa5882d",
   "metadata": {},
   "outputs": [],
   "source": [
    "file.close()"
   ]
  },
  {
   "cell_type": "code",
   "execution_count": 136,
   "id": "48db80ac-162c-4f7c-bca8-1761e3095215",
   "metadata": {},
   "outputs": [
    {
     "name": "stdout",
     "output_type": "stream",
     "text": [
      "Prachi\n",
      "Miraj\n",
      "Nakul\n",
      "Akshat\n",
      "Harsh\n",
      "Farhan\n",
      "Aman\n"
     ]
    }
   ],
   "source": [
    "print(data)"
   ]
  },
  {
   "cell_type": "code",
   "execution_count": 138,
   "id": "a6f8203d-bfa7-4c4c-85ce-8fb0e379171e",
   "metadata": {},
   "outputs": [
    {
     "data": {
      "text/plain": [
       "str"
      ]
     },
     "execution_count": 138,
     "metadata": {},
     "output_type": "execute_result"
    }
   ],
   "source": [
    "type(data)"
   ]
  },
  {
   "cell_type": "code",
   "execution_count": 140,
   "id": "27a43f1a-10b5-4f63-919b-4dd505b2cecf",
   "metadata": {},
   "outputs": [],
   "source": [
    "spliited_data=data.split(\"\\n\")"
   ]
  },
  {
   "cell_type": "code",
   "execution_count": 142,
   "id": "7ce3be91-9786-42fd-9849-670b2ce1ef01",
   "metadata": {},
   "outputs": [
    {
     "name": "stdout",
     "output_type": "stream",
     "text": [
      "['Prachi', 'Miraj', 'Nakul', 'Akshat', 'Harsh', 'Farhan', 'Aman']\n"
     ]
    }
   ],
   "source": [
    "print(spliited_data)"
   ]
  },
  {
   "cell_type": "code",
   "execution_count": 144,
   "id": "972f095d-2c66-491a-9d35-77b73841ce45",
   "metadata": {},
   "outputs": [
    {
     "data": {
      "text/plain": [
       "'\\nfor variable_name in iterable:\\n\\n'"
      ]
     },
     "execution_count": 144,
     "metadata": {},
     "output_type": "execute_result"
    }
   ],
   "source": [
    "\"\"\"\n",
    "for variable_name in iterable:\n",
    "\n",
    "\"\"\""
   ]
  },
  {
   "cell_type": "code",
   "execution_count": 146,
   "id": "5ba4a7be-aac8-4a6a-9810-9bc9ebbbc675",
   "metadata": {},
   "outputs": [
    {
     "data": {
      "text/plain": [
       "'Prachi'"
      ]
     },
     "execution_count": 146,
     "metadata": {},
     "output_type": "execute_result"
    }
   ],
   "source": [
    "spliited_data[0]"
   ]
  },
  {
   "cell_type": "code",
   "execution_count": 148,
   "id": "a3deaa48-b948-4a50-83fe-488676100163",
   "metadata": {},
   "outputs": [
    {
     "data": {
      "text/plain": [
       "'Miraj'"
      ]
     },
     "execution_count": 148,
     "metadata": {},
     "output_type": "execute_result"
    }
   ],
   "source": [
    "spliited_data[1]"
   ]
  },
  {
   "cell_type": "code",
   "execution_count": 152,
   "id": "07d61af6-859a-4122-95e3-4a52ce64ed3c",
   "metadata": {},
   "outputs": [
    {
     "data": {
      "text/plain": [
       "'A'"
      ]
     },
     "execution_count": 152,
     "metadata": {},
     "output_type": "execute_result"
    }
   ],
   "source": [
    "spliited_data[-1][0]"
   ]
  },
  {
   "cell_type": "code",
   "execution_count": 154,
   "id": "962d90e4-c005-44ad-b390-5440a258e45c",
   "metadata": {},
   "outputs": [
    {
     "data": {
      "text/plain": [
       "['Prachi', 'Miraj', 'Nakul', 'Akshat', 'Harsh', 'Farhan', 'Aman']"
      ]
     },
     "execution_count": 154,
     "metadata": {},
     "output_type": "execute_result"
    }
   ],
   "source": [
    "spliited_data"
   ]
  },
  {
   "cell_type": "code",
   "execution_count": 156,
   "id": "25aa0f95-d5dc-4aad-a7ec-d3fb94426e52",
   "metadata": {},
   "outputs": [
    {
     "name": "stdout",
     "output_type": "stream",
     "text": [
      "Harsh\n"
     ]
    }
   ],
   "source": [
    "for var in spliited_data:\n",
    "    if var.startswith(\"H\"):\n",
    "        print(var)\n",
    "    else:\n",
    "        pass"
   ]
  },
  {
   "cell_type": "code",
   "execution_count": 158,
   "id": "da97add7-cd9a-4ee0-8fa1-a59b6efdd9fa",
   "metadata": {},
   "outputs": [
    {
     "name": "stdout",
     "output_type": "stream",
     "text": [
      "Akshat\n",
      "Harsh\n"
     ]
    }
   ],
   "source": [
    "for var in spliited_data:\n",
    "    if \"sh\" in var:\n",
    "        print(var)\n",
    "    else:\n",
    "        pass"
   ]
  },
  {
   "cell_type": "code",
   "execution_count": null,
   "id": "63aad2af-d94b-49c3-89a5-3466cea0e68f",
   "metadata": {},
   "outputs": [],
   "source": []
  }
 ],
 "metadata": {
  "kernelspec": {
   "display_name": "Python 3 (ipykernel)",
   "language": "python",
   "name": "python3"
  },
  "language_info": {
   "codemirror_mode": {
    "name": "ipython",
    "version": 3
   },
   "file_extension": ".py",
   "mimetype": "text/x-python",
   "name": "python",
   "nbconvert_exporter": "python",
   "pygments_lexer": "ipython3",
   "version": "3.12.7"
  }
 },
 "nbformat": 4,
 "nbformat_minor": 5
}
